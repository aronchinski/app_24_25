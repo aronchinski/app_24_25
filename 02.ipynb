{
 "cells": [
  {
   "cell_type": "markdown",
   "id": "e296bd9b-186a-4836-8266-ae2693c254dd",
   "metadata": {},
   "source": [
    "fibbonaci:"
   ]
  },
  {
   "cell_type": "code",
   "execution_count": 4,
   "id": "be5035b5-aa04-45e2-8d4a-1247111c135b",
   "metadata": {},
   "outputs": [
    {
     "name": "stdout",
     "output_type": "stream",
     "text": [
      "1\n",
      "1\n",
      "2\n",
      "3\n",
      "5\n",
      "8\n",
      "13\n",
      "21\n",
      "34\n",
      "55\n"
     ]
    }
   ],
   "source": [
    "def fib(a):\n",
    "    b = 1\n",
    "    c = 1\n",
    "    # n = 2\n",
    "    for n in range(2, a):\n",
    "    # while n< a:\n",
    "        # tmp = c\n",
    "        # c = b + c \n",
    "        # b = tmp\n",
    "        b, c = (c, b +c)\n",
    "        n+= 1\n",
    "    return c\n",
    "    \n",
    "\n",
    "n = 10\n",
    "for i in range(1, n+1):\n",
    "    print(fib(i))"
   ]
  },
  {
   "cell_type": "markdown",
   "id": "51d34e29-31c1-4050-8284-0c1d6af80f6e",
   "metadata": {},
   "source": [
    "carrier:\n",
    "naturals addition algorithm"
   ]
  },
  {
   "cell_type": "markdown",
   "id": "94050673-410f-40a6-920a-9c5b85aa59a7",
   "metadata": {},
   "source": [
    "create dict of digits addition:"
   ]
  },
  {
   "cell_type": "code",
   "execution_count": 6,
   "id": "06344390-9202-4516-aa22-b4d7f54692e4",
   "metadata": {},
   "outputs": [],
   "source": [
    "d = dict()\n",
    "digits = list( range(0,10))\n",
    "\n",
    "for i in digits:\n",
    "    for j in digits:\n",
    "        d [(str(i), str(j))] = str (i+j)"
   ]
  },
  {
   "cell_type": "code",
   "execution_count": 33,
   "id": "186965ba-9c92-43bb-8b0e-fdd3579b41ac",
   "metadata": {},
   "outputs": [],
   "source": [
    "def concat(x, y):\n",
    "    if type(x) != list:\n",
    "        x = [x]\n",
    "\n",
    "    for el in y:\n",
    "        x.append(el)\n",
    "    return x"
   ]
  },
  {
   "cell_type": "code",
   "execution_count": 34,
   "id": "68ec915c-745e-4ad9-a6fe-d11855b63919",
   "metadata": {},
   "outputs": [
    {
     "data": {
      "text/plain": [
       "[1, 2, 3, 10, 11, 12, 13]"
      ]
     },
     "execution_count": 34,
     "metadata": {},
     "output_type": "execute_result"
    }
   ],
   "source": [
    "concat( list(range(1,4)), list(range(10,14)))"
   ]
  },
  {
   "cell_type": "code",
   "execution_count": 48,
   "id": "d6b7897c-70ce-4ab6-b67f-3bd581094e6c",
   "metadata": {},
   "outputs": [],
   "source": [
    "def add(a,b):\n",
    "    d = dict()\n",
    "    digits = list( range(0,10))\n",
    "    \n",
    "    for i in digits:\n",
    "        for j in digits:\n",
    "            d [(str(i), str(j))] = str (i+j)\n",
    "\n",
    "    out = list()\n",
    "    \n",
    "    carrier = '0'\n",
    "    \n",
    "    if len(a)< len(b):\n",
    "        a, b = b, a\n",
    "    for i in range(len(b)):\n",
    "        j = len(a) - i - 1\n",
    "        i = len(b) - i - 1\n",
    "        d_1 = a[j]\n",
    "        d_2 = b[i]\n",
    "        digits_sum = d[d_1,d_2]\n",
    "        if len(digits_sum)> 1:\n",
    "            c = '1'\n",
    "            digits_sum = digits_sum[-1]\n",
    "        digits_sum = d[digits_sum, carrier]\n",
    "        if len(digits_sum)> 1:\n",
    "            c = '1'\n",
    "            digits_sum = digits_sum[-1]\n",
    "        \n",
    "        out.insert(0, digits_sum)\n",
    "\n",
    "    out = concat(a[0: len(a) - len(b)], out)\n",
    "\n",
    "    return out"
   ]
  }
 ],
 "metadata": {
  "kernelspec": {
   "display_name": "Python 3 (ipykernel)",
   "language": "python",
   "name": "python3"
  },
  "language_info": {
   "codemirror_mode": {
    "name": "ipython",
    "version": 3
   },
   "file_extension": ".py",
   "mimetype": "text/x-python",
   "name": "python",
   "nbconvert_exporter": "python",
   "pygments_lexer": "ipython3",
   "version": "3.10.12"
  }
 },
 "nbformat": 4,
 "nbformat_minor": 5
}
